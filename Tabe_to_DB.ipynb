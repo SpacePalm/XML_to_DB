{
 "cells": [
  {
   "cell_type": "markdown",
   "id": "820f5f4b-92e0-4553-8583-990debbd49d9",
   "metadata": {},
   "source": [
    "#Connection"
   ]
  },
  {
   "cell_type": "code",
   "execution_count": 1,
   "id": "506059be-ca3f-4605-a2f2-a3d2b3ebf267",
   "metadata": {},
   "outputs": [],
   "source": [
    "import clickhouse_connect\n",
    "import os\n",
    "\n",
    "os.environ['NO_PROXY'] = '10.80.131.73'\n",
    "connection = clickhouse_connect.get_client(host = \"10.80.131.73\", port = 8123, username = 'test', password = 'secretPassword321!', database = 'test')"
   ]
  },
  {
   "cell_type": "code",
   "execution_count": 3,
   "id": "2e75e8aa-2d41-4051-b71f-8120467f65d2",
   "metadata": {},
   "outputs": [
    {
     "name": "stdout",
     "output_type": "stream",
     "text": [
      "<clickhouse_connect.driver.query.QueryResult object at 0x7fd2adc87430>\n"
     ]
    }
   ],
   "source": [
    "connection.query('select * from kb')"
   ]
  },
  {
   "cell_type": "code",
   "execution_count": null,
   "id": "86bf9dff-92ec-43cb-9b33-8d209a1c2bca",
   "metadata": {},
   "outputs": [],
   "source": []
  }
 ],
 "metadata": {
  "kernelspec": {
   "display_name": "Python 3 (ipykernel)",
   "language": "python",
   "name": "python3"
  },
  "language_info": {
   "codemirror_mode": {
    "name": "ipython",
    "version": 3
   },
   "file_extension": ".py",
   "mimetype": "text/x-python",
   "name": "python",
   "nbconvert_exporter": "python",
   "pygments_lexer": "ipython3",
   "version": "3.10.12"
  }
 },
 "nbformat": 4,
 "nbformat_minor": 5
}
