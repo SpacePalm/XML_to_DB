{
 "cells": [
  {
   "cell_type": "code",
   "execution_count": 1,
   "id": "e4e4cc85-7327-4e3c-88da-9bc55c7494a3",
   "metadata": {},
   "outputs": [],
   "source": [
    "import requests\n",
    "import pandas as pd\n",
    "from bs4 import BeautifulSoup\n",
    "import clickhouse_connect\n",
    "import os\n",
    "from datetime import date, datetime\n",
    "\n",
    "os.environ['NO_PROXY'] = '10.80.131.73'\n",
    "connection = clickhouse_connect.get_client(host = \"10.80.131.73\", port = 8123, username = 'test', password = 'secretPassword321!', database = 'test')\n",
    "path = 'Projects/XML_to_DB/CVE_SQL/CreateTable.sql'\n",
    "\n",
    "allowed_val = [\"Windows 10\", 'Windows Server 2008','Windows 8', 'Windows 7', 'Windows Server 2012', 'Windows 11', 'Windows Server 2016', 'Windows Server 2019', 'Windows Server 2022', 'Windows Server']\n",
    "\n",
    "doc_month_array = {8 :\"Aug\",9: \"Sep\",10: 'Oct',11: \"Nov\",12: \"Dec\",1: \"Jan\",2: 'Feb',3: \"Mar\",4: \"Apr\",5: \"May\",6: \"Jun\",7: \"Jul\"}\n",
    "\n"
   ]
  },
  {
   "cell_type": "code",
   "execution_count": 2,
   "id": "83ccbfd5-fbb9-46fa-9b2e-665a10f5a7b0",
   "metadata": {},
   "outputs": [
    {
     "name": "stdout",
     "output_type": "stream",
     "text": [
      "Got msrc\n",
      "Got osquery_patches\n",
      "Got osquery_version\n"
     ]
    }
   ],
   "source": [
    "msrc = connection.query_df(\"\"\"Select distinct product_names, doc_xml_date, doc_initial_relise_date,  kb, cve from msrc_data where cve not like 'ADV%'\"\"\")\n",
    "print(\"Got msrc\")\n",
    "osquery_patches = connection.query_df('select distinct hostname, hotfix_id, installed_on from dwh_osquery_software_patches where toMonth(timestamp) >= toMonth(now()) -1 ')\n",
    "print(\"Got osquery_patches\")\n",
    "osquery_version = connection.query_df('Select distinct * from dict_osquery_system_os_version where toMonth(timestamp) >= toMonth(now()) -1')\n",
    "print(\"Got osquery_version\")"
   ]
  },
  {
   "cell_type": "code",
   "execution_count": 3,
   "id": "d62dc0c7-bfd3-4d01-806e-db6b7046e007",
   "metadata": {},
   "outputs": [
    {
     "name": "stdout",
     "output_type": "stream",
     "text": [
      "              hostname  hotfix_id installed_on\n",
      "46416        1c-app-05    5012647    4/28/2022\n",
      "66116        1c-app-06    5044277   10/18/2024\n",
      "66390        1c-app-11    5044277   10/18/2024\n",
      "65899        1c-app-12    5044277   10/18/2024\n",
      "66071        1c-app-13    5044277   10/18/2024\n",
      "...                ...        ...          ...\n",
      "62648     xa-vdi-sap01    5043124    10/4/2024\n",
      "62493  xa-vdi-taxcom01    5043124    10/4/2024\n",
      "33347  xa-vdi-taxcom03    5041974     9/8/2024\n",
      "9295   xa-vdi-taxcomdb    5041913     9/8/2024\n",
      "60783         xa-wem01    5043126    10/4/2024\n",
      "\n",
      "[2471 rows x 3 columns]\n"
     ]
    }
   ],
   "source": [
    "\n",
    "osquery_patches['hotfix_id'] = osquery_patches['hotfix_id'].str.lstrip('KB').astype(int)\n",
    "osquery_patches = osquery_patches.loc[osquery_patches.groupby('hostname')['hotfix_id'].idxmax()]\n",
    "\n",
    "msrc['kb'] = msrc['kb'].astype(int)\n",
    "\n",
    "msrc['product_names'] = msrc['product_names'].apply(lambda x: 'Windows 10' if x.startswith('Windows 10') else x)\n",
    "msrc['product_names'] = msrc['product_names'].apply(lambda x: 'Windows Server 2008' if x.startswith('Windows Server 2008') else x)\n",
    "msrc['product_names'] = msrc['product_names'].apply(lambda x: 'Windows 7' if x.startswith('Windows 7') else x)\n",
    "msrc['product_names'] = msrc['product_names'].apply(lambda x: 'Windows 8' if x.startswith('Windows 8') else x)\n",
    "msrc['product_names'] = msrc['product_names'].apply(lambda x: 'Windows Server 2012' if x.startswith('Windows Server 2012') else x)\n",
    "msrc['product_names'] = msrc['product_names'].apply(lambda x: 'Windows 11' if x.startswith('Windows 11') else x)\n",
    "msrc['product_names'] = msrc['product_names'].apply(lambda x: 'Windows Server 2016' if x.startswith('Windows Server 2016') else x)\n",
    "msrc['product_names'] = msrc['product_names'].apply(lambda x: 'Windows Server 2019' if x.startswith('Windows Server 2019') else x)\n",
    "msrc['product_names'] = msrc['product_names'].apply(lambda x: 'Windows Server 2022' if x.startswith('Windows Server 2022') else x)\n",
    "msrc['product_names'] = msrc['product_names'].apply(lambda x: 'Windows Server' if x.startswith('Windows Server, version') else x)\n",
    "\n",
    "osquery_version['os_name'] = osquery_version['os_name'].apply(lambda x:'Windows 10' if \"Windows 10\" in x else x)\n",
    "osquery_version['os_name'] = osquery_version['os_name'].apply(lambda x:'Windows Server 2019' if \"Windows Server 2019\" in x else x)\n",
    "osquery_version['os_name'] = osquery_version['os_name'].apply(lambda x:'Windows Server 2012' if \"Windows Server 2012\" in x else x)\n",
    "osquery_version['os_name'] = osquery_version['os_name'].apply(lambda x:'Windows Server 2016' if \"Windows Server 2016\" in x else x)\n",
    "osquery_version['os_name'] = osquery_version['os_name'].apply(lambda x:'Windows Server 2008' if \"Windows Server 2008\" in x else x)\n",
    "osquery_version['os_name'] = osquery_version['os_name'].apply(lambda x:'Windows 7' if \"Windows 7\" in x else x)\n",
    "osquery_version['os_name'] = osquery_version['os_name'].apply(lambda x:'Windows 11' if \"Windows 11\" in x else x)\n",
    "osquery_version['os_name'] = osquery_version['os_name'].apply(lambda x:'Windows 8' if \"Windows 8\" in x else x)\n",
    "\n",
    "msrc = msrc[msrc['product_names'].isin(allowed_val)]\n",
    "\n",
    "msrc = msrc.sort_values(by = ['product_names', 'kb'])\n",
    "print(osquery_patches)"
   ]
  },
  {
   "cell_type": "code",
   "execution_count": 4,
   "id": "4f31493c-5cc6-4fa8-8521-4bd676ed05e8",
   "metadata": {},
   "outputs": [
    {
     "name": "stdout",
     "output_type": "stream",
     "text": [
      "418\n",
      "         product_names                                             kb_arr\n",
      "0           Windows 10  [[4528760, 2020-01-14], [4532691, 2020-02-11],...\n",
      "1           Windows 11  [[5006674, 2021-10-12], [5007215, 2021-11-09],...\n",
      "2            Windows 7  [[4534310, 2020-01-14], [4534314, 2020-01-14],...\n",
      "3            Windows 8  [[4534297, 2020-01-14], [4534309, 2020-01-14],...\n",
      "4       Windows Server  [[4528760, 2020-01-14], [4532693, 2020-02-11],...\n",
      "5  Windows Server 2008  [[4534303, 2020-01-14], [4534310, 2020-01-14],...\n",
      "6  Windows Server 2012  [[4534283, 2020-01-14], [4534288, 2020-01-14],...\n",
      "7  Windows Server 2016  [[4534271, 2020-01-14], [4537764, 2020-02-11],...\n",
      "8  Windows Server 2019  [[4532691, 2020-02-11], [4534273, 2020-01-14],...\n",
      "9  Windows Server 2022  [[5005575, 2021-09-14], [5006699, 2021-10-12],...\n"
     ]
    }
   ],
   "source": [
    "res = (msrc.groupby('product_names')\n",
    "       .apply(lambda x: sorted(x[['kb', 'doc_initial_relise_date']].drop_duplicates().assign(doc_initial_relise_date = x['doc_initial_relise_date'].dt.strftime('%Y-%m-%d')).values.tolist(), key = lambda y: y[1]))\n",
    "       .reset_index(name = \"kb_arr\"))\n",
    "print(len(res['kb_arr'][0]))\n",
    "def rem_kb(arr):\n",
    "    un_kb = {}\n",
    "    for kb, time in arr:\n",
    "        if kb not in un_kb or time > un_kb[kb]:\n",
    "            un_kb[kb] = time\n",
    "    return sorted([[kb, un_kb[kb]] for kb in un_kb], key= lambda x: x[0])\n",
    "\n",
    "res['kb_arr'] = res['kb_arr'].apply(rem_kb)\n",
    "\n",
    "msrc = msrc.sort_values(by = 'kb')\n",
    "print(res)"
   ]
  },
  {
   "cell_type": "code",
   "execution_count": 5,
   "id": "b01f8abc-f4d2-46a3-80dc-ce43d8627bcb",
   "metadata": {},
   "outputs": [],
   "source": [
    "\n",
    "osquery_version = pd.merge(osquery_version, res, left_on = 'os_name', right_on = 'product_names', how = 'left')\n",
    "osquery_version = pd.merge(osquery_version, osquery_patches, on = 'hostname', how = 'left')\n",
    "\n",
    "def trim_array(row):\n",
    "    arr = row['kb_arr']\n",
    "    kb = row['hotfix_id']\n",
    "\n",
    "    \n",
    "    if not isinstance(arr, list) : return []\n",
    "    last_month = datetime.strptime(arr[-1][1], '%Y-%m-%d').date().month\n",
    "    last_year = datetime.strptime(arr[-1][1], '%Y-%m-%d').date().year\n",
    "    for i in range(len(arr)): \n",
    "        if arr[i][0] > kb and datetime.strptime(arr[i][1], '%Y-%m-%d').date().month == last_month and datetime.strptime(arr[i][1], '%Y-%m-%d').date().year == last_year: \n",
    "            return arr[i:]\n",
    "   \n",
    "    return []\n",
    "            \n",
    "\n",
    "osquery_version['kb_arr'] = osquery_version.apply(trim_array, axis = 1)\n",
    "\n",
    "\n",
    "def get_cve(row):\n",
    "    if row[ 'kb_arr'] == []: return []\n",
    "        \n",
    "    return msrc[(msrc['kb'] > row['hotfix_id']) & (msrc['product_names'] == row['os_name'])]['cve'].unique()\n",
    "    \n",
    "osquery_version['cve'] = osquery_version.apply(get_cve, axis = 1)\n",
    "\n",
    "msrc_date = msrc[['kb', 'doc_xml_date']].drop_duplicates()\n",
    "msrc_date['doc_xml_date'] = pd.to_datetime(msrc_date['doc_xml_date'], format = '%Y-%b') \n",
    "msrc_date.sort_values(by = 'doc_xml_date', ascending = False, inplace = True)\n",
    "msrc_date = msrc_date.drop_duplicates(subset= ['kb'])\n",
    "msrc_date['doc_xml_date'] = msrc_date['doc_xml_date'].dt.strftime('%Y-%b')\n",
    "osquery_version = osquery_version.merge(msrc_date, left_on = 'hotfix_id', right_on = 'kb', how = 'left')\n",
    "osquery_version = osquery_version.explode('cve')"
   ]
  },
  {
   "cell_type": "code",
   "execution_count": 6,
   "id": "ada03041-69ae-49a7-b4be-47cd7df063b8",
   "metadata": {},
   "outputs": [],
   "source": [
    "\n",
    "with open('CreateTable.sql', 'r') as f:\n",
    "    query = f.read()\n",
    "    f.close()\n",
    "query = query.split(';')\n",
    "for i in query:\n",
    "    connection.query(i)"
   ]
  },
  {
   "cell_type": "code",
   "execution_count": 7,
   "id": "4f52c48e-2218-489e-ae5b-ccce9145220a",
   "metadata": {},
   "outputs": [
    {
     "name": "stdout",
     "output_type": "stream",
     "text": [
      "hostname        string[python]\n",
      "codename        string[python]\n",
      "version         string[python]\n",
      "hotfix_id               object\n",
      "doc_xml_date            object\n",
      "install_date    string[python]\n",
      "kb_arr                  object\n",
      "cve                     object\n",
      "dtype: object\n"
     ]
    }
   ],
   "source": [
    "osquery_version['hotfix_id'] = osquery_version['hotfix_id'].astype(str)\n",
    "osquery_version['doc_xml_date'] = osquery_version['doc_xml_date'].astype(str)\n",
    "osquery_version['cve'] = osquery_version['cve'].astype(str)\n",
    "osquery_version['kb_arr'] = osquery_version['kb_arr'].apply(lambda x: [[str(sublist[0]), sublist[1]] if len(sublist)>1 else sublist for sublist in x])\n",
    "osquery_version['hotfix_id'] = osquery_version['hotfix_id'].apply(lambda x: x[:-2] if len(x) > 0  and x!= 'nan' else '')\n",
    "osquery_version['doc_xml_date'] = osquery_version['doc_xml_date'].apply(lambda x: x if x!= 'nan' else '')\n",
    "osquery_version['cve'] = osquery_version['cve'].apply(lambda x: x if x!= 'nan' else '')\n",
    "\n",
    "osquery_version['hostname'].replace([None], '', inplace = True)\n",
    "osquery_version['codename'].replace([None], '', inplace = True)\n",
    "osquery_version['version'].replace([None], '', inplace = True)\n",
    "osquery_version['hotfix_id'].replace([None], '', inplace = True)\n",
    "osquery_version['doc_xml_date'].replace([None], '', inplace = True)\n",
    "osquery_version['install_date'].replace([None], '', inplace = True)\n",
    "osquery_version['kb_arr'].replace([None], '', inplace = True)\n",
    "osquery_version['cve'].replace([None], '', inplace = True)\n",
    "\n",
    "\n",
    "res = osquery_version[['hostname', 'codename', 'version', 'hotfix_id', 'doc_xml_date', 'install_date', 'kb_arr', 'cve']]\n",
    "# res[['hostname', 'codename', 'version', 'hotfix_id', 'doc_xml_date', 'install_date']] = res[['hostname', 'codename', 'version', 'hotfix_id', 'doc_xml_date', 'install_date']].astype(str)\n",
    "\n",
    "# res.fillna('', inplace = True)\n",
    "\n",
    "\n",
    "print(res.dtypes)"
   ]
  },
  {
   "cell_type": "code",
   "execution_count": 8,
   "id": "eb8a84d8-d0ff-46f6-8351-d49ffe40c329",
   "metadata": {},
   "outputs": [
    {
     "name": "stdout",
     "output_type": "stream",
     "text": [
      "           hostname                                  codename     version  \\\n",
      "0     w64c901deb5d8  Майкрософт Windows 10 Корпоративная LTSC  10.0.17763   \n",
      "0     w64c901deb5d8  Майкрософт Windows 10 Корпоративная LTSC  10.0.17763   \n",
      "0     w64c901deb5d8  Майкрософт Windows 10 Корпоративная LTSC  10.0.17763   \n",
      "0     w64c901deb5d8  Майкрософт Windows 10 Корпоративная LTSC  10.0.17763   \n",
      "0     w64c901deb5d8  Майкрософт Windows 10 Корпоративная LTSC  10.0.17763   \n",
      "...             ...                                       ...         ...   \n",
      "4106  n8c8caaeeb26b  Майкрософт Windows 10 Корпоративная LTSC  10.0.17763   \n",
      "4106  n8c8caaeeb26b  Майкрософт Windows 10 Корпоративная LTSC  10.0.17763   \n",
      "4106  n8c8caaeeb26b  Майкрософт Windows 10 Корпоративная LTSC  10.0.17763   \n",
      "4106  n8c8caaeeb26b  Майкрософт Windows 10 Корпоративная LTSC  10.0.17763   \n",
      "4106  n8c8caaeeb26b  Майкрософт Windows 10 Корпоративная LTSC  10.0.17763   \n",
      "\n",
      "     hotfix_id doc_xml_date install_date  \\\n",
      "0      5043126                1630146649   \n",
      "0      5043126                1630146649   \n",
      "0      5043126                1630146649   \n",
      "0      5043126                1630146649   \n",
      "0      5043126                1630146649   \n",
      "...        ...          ...          ...   \n",
      "4106   5043126                1628753374   \n",
      "4106   5043126                1628753374   \n",
      "4106   5043126                1628753374   \n",
      "4106   5043126                1628753374   \n",
      "4106   5043126                1628753374   \n",
      "\n",
      "                                                 kb_arr             cve  \n",
      "0     [[5044273, 2024-10-08], [5044277, 2024-10-08],...  CVE-2024-43501  \n",
      "0     [[5044273, 2024-10-08], [5044277, 2024-10-08],...  CVE-2024-43559  \n",
      "0     [[5044273, 2024-10-08], [5044277, 2024-10-08],...  CVE-2024-43558  \n",
      "0     [[5044273, 2024-10-08], [5044277, 2024-10-08],...  CVE-2024-43557  \n",
      "0     [[5044273, 2024-10-08], [5044277, 2024-10-08],...  CVE-2024-43556  \n",
      "...                                                 ...             ...  \n",
      "4106  [[5044273, 2024-10-08], [5044277, 2024-10-08],...  CVE-2024-43544  \n",
      "4106  [[5044273, 2024-10-08], [5044277, 2024-10-08],...  CVE-2024-43521  \n",
      "4106  [[5044273, 2024-10-08], [5044277, 2024-10-08],...  CVE-2024-43541  \n",
      "4106  [[5044273, 2024-10-08], [5044277, 2024-10-08],...  CVE-2024-43484  \n",
      "4106  [[5044273, 2024-10-08], [5044277, 2024-10-08],...  CVE-2024-43483  \n",
      "\n",
      "[483161 rows x 8 columns]\n"
     ]
    }
   ],
   "source": [
    "print(res)"
   ]
  },
  {
   "cell_type": "code",
   "execution_count": 9,
   "id": "65e5e828-b3f7-478f-9cae-0fabaaed3a0d",
   "metadata": {},
   "outputs": [
    {
     "data": {
      "text/plain": [
       "<clickhouse_connect.driver.summary.QuerySummary at 0x7fd7f4d1df90>"
      ]
     },
     "execution_count": 9,
     "metadata": {},
     "output_type": "execute_result"
    }
   ],
   "source": [
    "\n",
    "\n",
    "connection.insert_df('host_rec_kb', res, column_names = ['hostname', 'os_name', 'os_version', 'last_kb', 'last_kb_date', 'last_update_date', 'rec_kb_arr', 'cve'])"
   ]
  }
 ],
 "metadata": {
  "kernelspec": {
   "display_name": "Python 3 (ipykernel)",
   "language": "python",
   "name": "python3"
  },
  "language_info": {
   "codemirror_mode": {
    "name": "ipython",
    "version": 3
   },
   "file_extension": ".py",
   "mimetype": "text/x-python",
   "name": "python",
   "nbconvert_exporter": "python",
   "pygments_lexer": "ipython3",
   "version": "3.10.12"
  }
 },
 "nbformat": 4,
 "nbformat_minor": 5
}
