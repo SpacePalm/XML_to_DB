{
 "cells": [
  {
   "cell_type": "markdown",
   "metadata": {},
   "source": [
    "Import"
   ]
  },
  {
   "cell_type": "code",
   "execution_count": 103,
   "metadata": {},
   "outputs": [],
   "source": [
    "import requests\n",
    "import pandas as pd\n",
    "import xml.etree.ElementTree as ET\n",
    "from bs4 import BeautifulSoup\n"
   ]
  },
  {
   "cell_type": "code",
   "execution_count": 104,
   "metadata": {},
   "outputs": [],
   "source": [
    "soup = \"\"\n",
    "with open(\"data.xml\", \"r\", encoding=\"utf-8\") as file:\n",
    "    content = file.read()\n",
    "    soup = BeautifulSoup(content, \"xml\")\n",
    "    file.close()\n"
   ]
  },
  {
   "cell_type": "markdown",
   "metadata": {},
   "source": [
    "#ProductTree"
   ]
  },
  {
   "cell_type": "code",
   "execution_count": 105,
   "metadata": {},
   "outputs": [
    {
     "name": "stdout",
     "output_type": "stream",
     "text": [
      "    ProductID                                        ProductName  \\\n",
      "0       11568         Windows 10 Version 1809 for 32-bit Systems   \n",
      "1       11569      Windows 10 Version 1809 for x64-based Systems   \n",
      "2       11570    Windows 10 Version 1809 for ARM64-based Systems   \n",
      "3       11571                                Windows Server 2019   \n",
      "4       11572     Windows Server 2019 (Server Core installation)   \n",
      "..        ...                                                ...   \n",
      "177     12139                                CBL Mariner 2.0 x64   \n",
      "178     12140                                CBL Mariner 2.0 ARM   \n",
      "179      9312  Windows Server 2008 for 32-bit Systems Service...   \n",
      "180      9318  Windows Server 2008 for x64-based Systems Serv...   \n",
      "181      9344  Windows Server 2008 for x64-based Systems Serv...   \n",
      "\n",
      "               Type     Name  \n",
      "0    Product Family  Windows  \n",
      "1    Product Family  Windows  \n",
      "2    Product Family  Windows  \n",
      "3    Product Family  Windows  \n",
      "4    Product Family  Windows  \n",
      "..              ...      ...  \n",
      "177            None     None  \n",
      "178            None     None  \n",
      "179            None     None  \n",
      "180            None     None  \n",
      "181            None     None  \n",
      "\n",
      "[182 rows x 4 columns]\n"
     ]
    }
   ],
   "source": [
    "library = soup.find('ProductTree')\n",
    "productdb = {'ProductID':[], 'ProductName':[], 'Type':[], 'Name':[]}\n",
    "\n",
    "\n",
    "def process_node(node, productdb):\n",
    "\n",
    "    if node.name is not None:\n",
    "        if 'ProductID' in node.attrs:\n",
    "            productdb['ProductID'].append(node.attrs['ProductID'])\n",
    "            productdb['ProductName'].append(node.text)\n",
    "        \n",
    "        if 'Type' not in node.attrs and node.name != 'ProductTree':\n",
    "            if 'Type' in node.parent.attrs:\n",
    "                 productdb['Type'].append(node.parent.attrs['Type'])\n",
    "                 productdb['Name'].append(node.parent.attrs['Name'])\n",
    "            else:\n",
    "                productdb['Type'].append(None)\n",
    "                productdb['Name'].append(None)\n",
    "\n",
    "        for child in node.children:\n",
    "            process_node(child, productdb)\n",
    "\n",
    "\n",
    "process_node(library, productdb)\n",
    "productdb = pd.DataFrame(productdb)\n",
    "productdb.to_excel('data.xlsx', index=False)\n",
    "print(productdb)\n"
   ]
  },
  {
   "cell_type": "markdown",
   "metadata": {},
   "source": [
    "#Vulnerability"
   ]
  },
  {
   "cell_type": "code",
   "execution_count": 106,
   "metadata": {},
   "outputs": [
    {
     "name": "stdout",
     "output_type": "stream",
     "text": [
      "      VulnerabilityFK            Type Description ProductID\n",
      "0                   0          Impact        None     12139\n",
      "1                   0          Impact        None     12140\n",
      "2                   0        Severity        None     12139\n",
      "3                   0        Severity        None     12140\n",
      "4                   0  Exploit Status     DOS:N/A      None\n",
      "...               ...             ...         ...       ...\n",
      "5250              227        Severity        None     11655\n",
      "5251              227  Exploit Status     DOS:N/A      None\n",
      "5252              228          Impact        None     11655\n",
      "5253              228        Severity        None     11655\n",
      "5254              228  Exploit Status     DOS:N/A      None\n",
      "\n",
      "[5255 rows x 4 columns]\n"
     ]
    }
   ],
   "source": [
    "\n",
    "vulnerability_db = {\"Ordinal\":[], \"CVE\":[]}\n",
    "vulnerability_db_status = {\"VulnerabilityFK\":[], \"StatusType\": [], \"ProductID\":[]}\n",
    "vulnerability_db_notes = {\"VulnerabilityFK\":[], \"Title\":[], \"Type\":[], \"Ordinal\":[], \"Note\":[]}\n",
    "vulnerability_db_threats = {\"VulnerabilityFK\":[], \"Type\":[], \"Description\":[], \"ProductID\":[]}\n",
    "def vulnerability(node, vulnerability_db):\n",
    "    if node.name is not None:\n",
    "\n",
    "        def get_x_parent(res, x):\n",
    "            for i in range(x):\n",
    "                res = res.parent\n",
    "            return res\n",
    "\n",
    "        if 'Ordinal' in node.attrs and node.name == 'Vulnerability':\n",
    "            vulnerability_db['Ordinal'].append(node.attrs['Ordinal'])\n",
    "        \n",
    "        if node.name == 'CVE':\n",
    "            vulnerability_db['CVE'].append(node.text)\n",
    "\n",
    "        if node.name == 'ProductID' and node.parent.name == \"Status\":\n",
    "            vulnerability_db_status['ProductID'].append(node.text)\n",
    "            vulnerability_db_status['StatusType'].append(node.parent.attrs['Type'])\n",
    "            vulnerability_db_status['VulnerabilityFK'].append(len(vulnerability_db['Ordinal'])-1)\n",
    "\n",
    "        if node.name == 'Note' and node.parent.name == \"Notes\":\n",
    "            vulnerability_db_notes['VulnerabilityFK'].append(len(vulnerability_db['Ordinal'])-1)\n",
    "            vulnerability_db_notes[\"Title\"].append(node.attrs['Title'])\n",
    "            vulnerability_db_notes[\"Type\"].append(node.attrs['Type'])\n",
    "            vulnerability_db_notes[\"Ordinal\"].append(node.attrs['Ordinal'])\n",
    "            vulnerability_db_notes[\"Note\"].append(node.text)\n",
    "\n",
    "        if node.name == 'Threat' and node.parent.name == \"Threats\":\n",
    "            vulnerability_db_threats['VulnerabilityFK'].append(len(vulnerability_db['Ordinal'])-1)\n",
    "            vulnerability_db_threats['Type'].append(node.attrs['Type'])\n",
    "\n",
    "            if node.find('ProductID'):\n",
    "                \n",
    "                for i in node.children:\n",
    "                    if i.name == 'ProductID': \n",
    "                        vulnerability_db_threats['ProductID'].append(i.text)   \n",
    "\n",
    "                    if i.name == 'Description' and i.text != '': \n",
    "                        vulnerability_db_threats['Description'].append(i.text)\n",
    "                    \n",
    "                    if i.name == 'Description' and i.text == '': \n",
    "                        vulnerability_db_threats['Description'].append(None)\n",
    "            else:\n",
    "                vulnerability_db_threats['ProductID'].append(None) \n",
    "                vulnerability_db_threats['Description'].append(node.find(\"Description\").text)\n",
    "\n",
    "\n",
    "\n",
    "        for child in node.children:\n",
    "            vulnerability(child, vulnerability_db)\n",
    "\n",
    "lib = soup.find('cvrfdoc')\n",
    "lib = lib.children\n",
    "for child in lib:\n",
    "    if child.name == \"Vulnerability\":\n",
    "        vulnerability(child, vulnerability_db)\n",
    "vulnerability_db = pd.DataFrame(vulnerability_db)\n",
    "vulnerability_db_status = pd.DataFrame(vulnerability_db_status)\n",
    "vulnerability_db_notes = pd.DataFrame(vulnerability_db_notes)\n",
    "vulnerability_db_threats = pd.DataFrame(vulnerability_db_threats)\n",
    "print(vulnerability_db_threats)\n",
    "# print(len(vulnerability_db_threats[\"VulnerabilityFK\"]), len(vulnerability_db_threats[\"Description\"]), len(vulnerability_db_threats[\"ProductID\"]))\n"
   ]
  }
 ],
 "metadata": {
  "kernelspec": {
   "display_name": "Python 3",
   "language": "python",
   "name": "python3"
  },
  "language_info": {
   "codemirror_mode": {
    "name": "ipython",
    "version": 3
   },
   "file_extension": ".py",
   "mimetype": "text/x-python",
   "name": "python",
   "nbconvert_exporter": "python",
   "pygments_lexer": "ipython3",
   "version": "3.11.4"
  }
 },
 "nbformat": 4,
 "nbformat_minor": 2
}
