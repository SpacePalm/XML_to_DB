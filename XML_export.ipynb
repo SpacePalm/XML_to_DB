{
 "cells": [
  {
   "cell_type": "markdown",
   "metadata": {},
   "source": [
    "Import"
   ]
  },
  {
   "cell_type": "code",
   "execution_count": 32,
   "metadata": {},
   "outputs": [],
   "source": [
    "import requests\n",
    "import pandas as pd\n",
    "import xml.etree.ElementTree as ET\n",
    "from bs4 import BeautifulSoup\n"
   ]
  },
  {
   "cell_type": "code",
   "execution_count": 33,
   "metadata": {},
   "outputs": [],
   "source": [
    "soup = \"\"\n",
    "with open(\"data.xml\", \"r\", encoding=\"utf-8\") as file:\n",
    "    content = file.read()\n",
    "    soup = BeautifulSoup(content, \"xml\")\n",
    "    file.close()\n"
   ]
  },
  {
   "cell_type": "markdown",
   "metadata": {},
   "source": [
    "#ProductTree"
   ]
  },
  {
   "cell_type": "code",
   "execution_count": 98,
   "metadata": {},
   "outputs": [
    {
     "name": "stdout",
     "output_type": "stream",
     "text": [
      "    ProductID                                        ProductName  \\\n",
      "0       11568         Windows 10 Version 1809 for 32-bit Systems   \n",
      "1       11569      Windows 10 Version 1809 for x64-based Systems   \n",
      "2       11570    Windows 10 Version 1809 for ARM64-based Systems   \n",
      "3       11571                                Windows Server 2019   \n",
      "4       11572     Windows Server 2019 (Server Core installation)   \n",
      "..        ...                                                ...   \n",
      "177     12139                                CBL Mariner 2.0 x64   \n",
      "178     12140                                CBL Mariner 2.0 ARM   \n",
      "179      9312  Windows Server 2008 for 32-bit Systems Service...   \n",
      "180      9318  Windows Server 2008 for x64-based Systems Serv...   \n",
      "181      9344  Windows Server 2008 for x64-based Systems Serv...   \n",
      "\n",
      "               Type     Name  \n",
      "0    Product Family  Windows  \n",
      "1    Product Family  Windows  \n",
      "2    Product Family  Windows  \n",
      "3    Product Family  Windows  \n",
      "4    Product Family  Windows  \n",
      "..              ...      ...  \n",
      "177            None     None  \n",
      "178            None     None  \n",
      "179            None     None  \n",
      "180            None     None  \n",
      "181            None     None  \n",
      "\n",
      "[182 rows x 4 columns]\n"
     ]
    }
   ],
   "source": [
    "library = soup.find('ProductTree')\n",
    "productdb = {'ProductID':[], 'ProductName':[], 'Type':[], 'Name':[]}\n",
    "\n",
    "\n",
    "def process_node(node, productdb):\n",
    "\n",
    "    if node.name is not None:\n",
    "        if 'ProductID' in node.attrs:\n",
    "            productdb['ProductID'].append(node.attrs['ProductID'])\n",
    "            productdb['ProductName'].append(node.text)\n",
    "        \n",
    "        if 'Type' not in node.attrs and node.name != 'ProductTree':\n",
    "            if 'Type' in node.parent.attrs:\n",
    "                 productdb['Type'].append(node.parent.attrs['Type'])\n",
    "                 productdb['Name'].append(node.parent.attrs['Name'])\n",
    "            else:\n",
    "                productdb['Type'].append(None)\n",
    "                productdb['Name'].append(None)\n",
    "\n",
    "        for child in node.children:\n",
    "            process_node(child, productdb)\n",
    "\n",
    "\n",
    "process_node(library, productdb)\n",
    "productdb = pd.DataFrame(productdb)\n",
    "productdb.to_excel('data.xlsx', index=False)\n",
    "print(productdb)"
   ]
  }
 ],
 "metadata": {
  "kernelspec": {
   "display_name": "Python 3",
   "language": "python",
   "name": "python3"
  },
  "language_info": {
   "codemirror_mode": {
    "name": "ipython",
    "version": 3
   },
   "file_extension": ".py",
   "mimetype": "text/x-python",
   "name": "python",
   "nbconvert_exporter": "python",
   "pygments_lexer": "ipython3",
   "version": "3.12.5"
  }
 },
 "nbformat": 4,
 "nbformat_minor": 2
}
