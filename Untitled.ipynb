{
 "cells": [
  {
   "cell_type": "code",
   "execution_count": 3,
   "id": "b40e8023-13d3-4f77-9bdc-3feb6600bc00",
   "metadata": {},
   "outputs": [
    {
     "name": "stdout",
     "output_type": "stream",
     "text": [
      "truncate table vulnerability;\n",
      "truncate table vulnerability_status;\n",
      "truncate table vulnerability_notes;\n",
      "truncate table vulnerability_threats;\n",
      "truncate table vulnerability_score_set;\n",
      "truncate table vulnerability_revision;\n",
      "truncate table vulnerability_remediation;\n",
      "truncate table product;\n",
      "truncate table document_info\n"
     ]
    }
   ],
   "source": [
    "with open ('CVE_SQL/Clear.sql', 'r') as f:\n",
    "    print(f.read())\n",
    "    f.close()"
   ]
  },
  {
   "cell_type": "code",
   "execution_count": null,
   "id": "3a3f8faf-80bf-43f5-a97d-555944e6bb27",
   "metadata": {},
   "outputs": [],
   "source": []
  }
 ],
 "metadata": {
  "kernelspec": {
   "display_name": "Python 3 (ipykernel)",
   "language": "python",
   "name": "python3"
  },
  "language_info": {
   "codemirror_mode": {
    "name": "ipython",
    "version": 3
   },
   "file_extension": ".py",
   "mimetype": "text/x-python",
   "name": "python",
   "nbconvert_exporter": "python",
   "pygments_lexer": "ipython3",
   "version": "3.10.12"
  }
 },
 "nbformat": 4,
 "nbformat_minor": 5
}
